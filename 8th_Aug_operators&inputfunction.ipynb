{
 "cells": [
  {
   "cell_type": "markdown",
   "id": "c8d9d255-40af-497b-a068-e9a048327ca7",
   "metadata": {},
   "source": [
    "BITWISE OPERATORS\n",
    "1)bitwise and-1&1=1,1&0=0,0&1=0,0&0=0\n",
    "2)bitwise or-1|1=1,1|0=1,0|1=1,0|0=0\n",
    "3)bitwise xor-1^1=0,0^0=0,1^0=1,0^1=1\n",
    "4)bitwise not-2's compliment->formula is x=-(x+1)\n",
    "5)bitwise left shift\n",
    "6)bitwise right shift"
   ]
  },
  {
   "cell_type": "code",
   "execution_count": 1,
   "id": "2c69a552-9da7-4511-9c62-ddc7eb75cb0d",
   "metadata": {},
   "outputs": [
    {
     "data": {
      "text/plain": [
       "2"
      ]
     },
     "execution_count": 1,
     "metadata": {},
     "output_type": "execute_result"
    }
   ],
   "source": [
    "2&3"
   ]
  },
  {
   "cell_type": "code",
   "execution_count": 8,
   "id": "6bf67036-c4dc-4fa3-a624-678b3d653869",
   "metadata": {},
   "outputs": [
    {
     "name": "stdout",
     "output_type": "stream",
     "text": [
      "0b10\n",
      "0b11\n"
     ]
    }
   ],
   "source": [
    "print(bin(2),bin(3),sep=\"\\n\")"
   ]
  },
  {
   "cell_type": "code",
   "execution_count": 2,
   "id": "97497105-a702-432c-b24f-49ee51c00039",
   "metadata": {},
   "outputs": [
    {
     "data": {
      "text/plain": [
       "3"
      ]
     },
     "execution_count": 2,
     "metadata": {},
     "output_type": "execute_result"
    }
   ],
   "source": [
    "2|3"
   ]
  },
  {
   "cell_type": "code",
   "execution_count": 9,
   "id": "4cd85204-b026-4df5-972f-47622302fbb3",
   "metadata": {},
   "outputs": [
    {
     "name": "stdout",
     "output_type": "stream",
     "text": [
      "0b10\n",
      "0b11\n"
     ]
    }
   ],
   "source": [
    "print(bin(2),bin(3),sep=\"\\n\")"
   ]
  },
  {
   "cell_type": "code",
   "execution_count": 3,
   "id": "8e7f0026-6e9e-4db1-b313-ec4469495ea0",
   "metadata": {},
   "outputs": [
    {
     "data": {
      "text/plain": [
       "1"
      ]
     },
     "execution_count": 3,
     "metadata": {},
     "output_type": "execute_result"
    }
   ],
   "source": [
    "2^3"
   ]
  },
  {
   "cell_type": "code",
   "execution_count": 10,
   "id": "bdfd5a84-0d85-4dc3-b181-e859d3f99041",
   "metadata": {},
   "outputs": [
    {
     "name": "stdout",
     "output_type": "stream",
     "text": [
      "0b10\n",
      "0b11\n"
     ]
    }
   ],
   "source": [
    "print(bin(2),bin(3),sep=\"\\n\")"
   ]
  },
  {
   "cell_type": "code",
   "execution_count": 4,
   "id": "134ffc42-7185-4ff1-8f35-9efbb6ee5bdf",
   "metadata": {},
   "outputs": [
    {
     "data": {
      "text/plain": [
       "-3"
      ]
     },
     "execution_count": 4,
     "metadata": {},
     "output_type": "execute_result"
    }
   ],
   "source": [
    "~2"
   ]
  },
  {
   "cell_type": "code",
   "execution_count": 11,
   "id": "6fd4d445-387e-43a9-ab02-5308528f30f2",
   "metadata": {},
   "outputs": [
    {
     "name": "stdout",
     "output_type": "stream",
     "text": [
      "0b10\n"
     ]
    }
   ],
   "source": [
    "print(bin(2))"
   ]
  },
  {
   "cell_type": "code",
   "execution_count": 5,
   "id": "4b18ba07-1116-4e4a-ad7a-343edb5f4ab1",
   "metadata": {},
   "outputs": [
    {
     "name": "stdout",
     "output_type": "stream",
     "text": [
      "zsh:1: command not found: 3\n"
     ]
    }
   ],
   "source": [
    "!3"
   ]
  },
  {
   "cell_type": "code",
   "execution_count": 12,
   "id": "c6089e6d-880f-4a13-9966-e311ce813b39",
   "metadata": {},
   "outputs": [
    {
     "name": "stdout",
     "output_type": "stream",
     "text": [
      "0b11\n"
     ]
    }
   ],
   "source": [
    "print(bin(3))"
   ]
  },
  {
   "cell_type": "code",
   "execution_count": 6,
   "id": "233f3be6-88cc-4165-8416-b2700241b33c",
   "metadata": {},
   "outputs": [
    {
     "data": {
      "text/plain": [
       "'0b10'"
      ]
     },
     "execution_count": 6,
     "metadata": {},
     "output_type": "execute_result"
    }
   ],
   "source": [
    "bin(2)"
   ]
  },
  {
   "cell_type": "code",
   "execution_count": 7,
   "id": "b93ebe2b-99d8-46c2-a008-ac6953a2a485",
   "metadata": {},
   "outputs": [
    {
     "data": {
      "text/plain": [
       "'0b11001'"
      ]
     },
     "execution_count": 7,
     "metadata": {},
     "output_type": "execute_result"
    }
   ],
   "source": [
    "bin(25)"
   ]
  },
  {
   "cell_type": "markdown",
   "id": "35b9dcac-5e04-4653-9b79-623050f251f9",
   "metadata": {},
   "source": [
    "left shift and right shift\n",
    "left shift->value increases\n",
    "right shift->value decreases"
   ]
  },
  {
   "cell_type": "code",
   "execution_count": 13,
   "id": "aac3d048-930a-44e3-92ba-d6502427dc8b",
   "metadata": {},
   "outputs": [
    {
     "data": {
      "text/plain": [
       "16"
      ]
     },
     "execution_count": 13,
     "metadata": {},
     "output_type": "execute_result"
    }
   ],
   "source": [
    "2<<3"
   ]
  },
  {
   "cell_type": "code",
   "execution_count": 14,
   "id": "d31e779d-d55e-4a50-849f-921ee6737390",
   "metadata": {},
   "outputs": [
    {
     "data": {
      "text/plain": [
       "0"
      ]
     },
     "execution_count": 14,
     "metadata": {},
     "output_type": "execute_result"
    }
   ],
   "source": [
    "2>>3"
   ]
  },
  {
   "cell_type": "markdown",
   "id": "1e3ca0dc-2d6c-40cb-a139-a52b90d1828e",
   "metadata": {},
   "source": [
    "LOGICAL OPERATORS\n",
    "1)logical and\n",
    "2)logical or\n",
    "3)logical not"
   ]
  },
  {
   "cell_type": "code",
   "execution_count": 17,
   "id": "65341742-1454-4f93-bdb6-6d80bb2bafd6",
   "metadata": {},
   "outputs": [
    {
     "name": "stdout",
     "output_type": "stream",
     "text": [
      "false\n"
     ]
    }
   ],
   "source": [
    "x=10\n",
    "y=20\n",
    "if(x==20) and (y==20):\n",
    "    print(\"true\")\n",
    "print(\"false\")"
   ]
  },
  {
   "cell_type": "code",
   "execution_count": 19,
   "id": "c21325d5-dd03-42c8-88dd-68222d73a5d9",
   "metadata": {},
   "outputs": [
    {
     "name": "stdout",
     "output_type": "stream",
     "text": [
      "true\n"
     ]
    }
   ],
   "source": [
    "x=10\n",
    "y=20\n",
    "if(x==10) and (y==20):\n",
    "    print(\"true\")\n",
    "#print(\"false\")"
   ]
  },
  {
   "cell_type": "code",
   "execution_count": 21,
   "id": "ea118c82-c319-43a2-aa0f-e753c8d0643e",
   "metadata": {},
   "outputs": [
    {
     "name": "stdout",
     "output_type": "stream",
     "text": [
      "true\n"
     ]
    }
   ],
   "source": [
    "x=10\n",
    "y=20\n",
    "if(x==20) or (y==20):\n",
    "    print(\"true\")\n",
    "#print(\"false\")"
   ]
  },
  {
   "cell_type": "code",
   "execution_count": 23,
   "id": "7b72cd77-ba2a-49cf-b370-db51fe930fba",
   "metadata": {},
   "outputs": [
    {
     "name": "stdout",
     "output_type": "stream",
     "text": [
      "true\n"
     ]
    }
   ],
   "source": [
    "x=10\n",
    "y=20\n",
    "if(x==10) and (y==20):\n",
    "    print(\"true\")\n",
    "#print(\"false\")"
   ]
  },
  {
   "cell_type": "markdown",
   "id": "f9247b39-9ba0-4a0f-8ede-a605e964e85d",
   "metadata": {},
   "source": [
    "PACKAGE->collection of modules\n",
    "MODULE->collection of functions"
   ]
  },
  {
   "cell_type": "code",
   "execution_count": 24,
   "id": "2f2a0296-36d5-4a74-bef7-b719174be3ba",
   "metadata": {},
   "outputs": [
    {
     "ename": "NameError",
     "evalue": "name 'sqrt' is not defined",
     "output_type": "error",
     "traceback": [
      "\u001b[0;31m---------------------------------------------------------------------------\u001b[0m",
      "\u001b[0;31mNameError\u001b[0m                                 Traceback (most recent call last)",
      "Cell \u001b[0;32mIn[24], line 1\u001b[0m\n\u001b[0;32m----> 1\u001b[0m sqrt(\u001b[38;5;241m25\u001b[39m)\n",
      "\u001b[0;31mNameError\u001b[0m: name 'sqrt' is not defined"
     ]
    }
   ],
   "source": [
    "sqrt(25)"
   ]
  },
  {
   "cell_type": "code",
   "execution_count": 25,
   "id": "4dda9c6c-2281-4818-aa58-e95ac4976e87",
   "metadata": {},
   "outputs": [
    {
     "data": {
      "text/plain": [
       "5.0"
      ]
     },
     "execution_count": 25,
     "metadata": {},
     "output_type": "execute_result"
    }
   ],
   "source": [
    "import math\n",
    "math.sqrt(25)"
   ]
  },
  {
   "cell_type": "code",
   "execution_count": 26,
   "id": "eb8fcb28-1ccf-4125-8317-2e14c370b29f",
   "metadata": {},
   "outputs": [
    {
     "data": {
      "text/plain": [
       "3.1622776601683795"
      ]
     },
     "execution_count": 26,
     "metadata": {},
     "output_type": "execute_result"
    }
   ],
   "source": [
    "math.sqrt(10)"
   ]
  },
  {
   "cell_type": "code",
   "execution_count": 27,
   "id": "52034cb5-d139-49e3-81df-4dce2094382c",
   "metadata": {},
   "outputs": [
    {
     "data": {
      "text/plain": [
       "3"
      ]
     },
     "execution_count": 27,
     "metadata": {},
     "output_type": "execute_result"
    }
   ],
   "source": [
    "math.floor(3.1622776601683795)"
   ]
  },
  {
   "cell_type": "code",
   "execution_count": 28,
   "id": "b330b24a-f193-46f2-b62b-62c57551e7d2",
   "metadata": {},
   "outputs": [
    {
     "data": {
      "text/plain": [
       "4"
      ]
     },
     "execution_count": 28,
     "metadata": {},
     "output_type": "execute_result"
    }
   ],
   "source": [
    "math.ceil(3.1622776601683795)"
   ]
  },
  {
   "cell_type": "code",
   "execution_count": 29,
   "id": "3e64946b-1761-4f7a-bf75-06cbc4014393",
   "metadata": {},
   "outputs": [
    {
     "data": {
      "text/plain": [
       "3.141592653589793"
      ]
     },
     "execution_count": 29,
     "metadata": {},
     "output_type": "execute_result"
    }
   ],
   "source": [
    "math.pi"
   ]
  },
  {
   "cell_type": "code",
   "execution_count": 30,
   "id": "2a5acfd7-19d0-4ed6-8353-cf8e355b8320",
   "metadata": {},
   "outputs": [
    {
     "data": {
      "text/plain": [
       "2.718281828459045"
      ]
     },
     "execution_count": 30,
     "metadata": {},
     "output_type": "execute_result"
    }
   ],
   "source": [
    "math.e#epsilon"
   ]
  },
  {
   "cell_type": "code",
   "execution_count": 31,
   "id": "d1e8ed67-4e9a-43a7-8ff0-28c2e687a6fc",
   "metadata": {},
   "outputs": [
    {
     "data": {
      "text/plain": [
       "536870912.0"
      ]
     },
     "execution_count": 31,
     "metadata": {},
     "output_type": "execute_result"
    }
   ],
   "source": [
    "math.pow(2,29)"
   ]
  },
  {
   "cell_type": "code",
   "execution_count": 32,
   "id": "3cdaf8e4-6648-4342-afd2-42eb0ee5bc70",
   "metadata": {},
   "outputs": [
    {
     "name": "stdout",
     "output_type": "stream",
     "text": [
      "9.486832980505138\n",
      "9\n",
      "10\n",
      "8.0\n"
     ]
    }
   ],
   "source": [
    "from math import sqrt,floor,ceil,pow\n",
    "print(math.sqrt(90),math.floor(math.sqrt(90)),math.ceil(math.sqrt(90)),math.pow(2,3),sep=\"\\n\")"
   ]
  },
  {
   "cell_type": "markdown",
   "id": "05e08012-67c0-499c-8ea4-cffb012f4ce0",
   "metadata": {},
   "source": [
    "INPUT FUNCTION\n",
    "->used to take input from the user\n",
    "->by default the input function is a string"
   ]
  },
  {
   "cell_type": "code",
   "execution_count": 34,
   "id": "a007f05f-ffb6-4f85-9511-039f224a60d7",
   "metadata": {},
   "outputs": [
    {
     "name": "stdin",
     "output_type": "stream",
     "text": [
      " 5\n",
      " 10\n"
     ]
    },
    {
     "name": "stdout",
     "output_type": "stream",
     "text": [
      "510\n"
     ]
    }
   ],
   "source": [
    "x=input()\n",
    "y=input()\n",
    "z=x+y\n",
    "print(z)"
   ]
  },
  {
   "cell_type": "code",
   "execution_count": 35,
   "id": "fbb479c1-60e7-4565-8a15-22aeaa043803",
   "metadata": {},
   "outputs": [
    {
     "name": "stdin",
     "output_type": "stream",
     "text": [
      "enter the first number 5\n",
      "enter the second number 10\n"
     ]
    },
    {
     "name": "stdout",
     "output_type": "stream",
     "text": [
      "the result of first and second number is: 510\n"
     ]
    }
   ],
   "source": [
    "x=input(\"enter the first number\")\n",
    "y=input(\"enter the second number\")\n",
    "z=x+y\n",
    "print(\"the result of first and second number is:\",z)"
   ]
  },
  {
   "cell_type": "code",
   "execution_count": 36,
   "id": "1ef6b832-eb83-4282-8633-aff81f263068",
   "metadata": {},
   "outputs": [
    {
     "name": "stdin",
     "output_type": "stream",
     "text": [
      "enter the first number 5\n",
      "enter the second number 10\n"
     ]
    },
    {
     "name": "stdout",
     "output_type": "stream",
     "text": [
      "the result of first and second number is: 15\n"
     ]
    }
   ],
   "source": [
    "x=int(input(\"enter the first number\"))\n",
    "y=int(input(\"enter the second number\"))\n",
    "z=x+y\n",
    "print(\"the result of first and second number is:\",z)"
   ]
  },
  {
   "cell_type": "code",
   "execution_count": 49,
   "id": "8a2b08b8-d93a-4589-8ff0-fb2164337563",
   "metadata": {},
   "outputs": [
    {
     "name": "stdin",
     "output_type": "stream",
     "text": [
      "select a number from 1 to 100 99\n"
     ]
    },
    {
     "name": "stdout",
     "output_type": "stream",
     "text": [
      "0\n",
      "2\n",
      "4\n",
      "6\n",
      "8\n",
      "10\n",
      "12\n",
      "14\n",
      "16\n",
      "18\n",
      "20\n",
      "22\n",
      "24\n",
      "26\n",
      "28\n",
      "30\n",
      "32\n",
      "34\n",
      "36\n",
      "38\n",
      "40\n",
      "42\n",
      "44\n",
      "46\n",
      "48\n",
      "50\n",
      "52\n",
      "54\n",
      "56\n",
      "58\n",
      "60\n",
      "62\n",
      "64\n",
      "66\n",
      "68\n",
      "70\n",
      "72\n",
      "74\n",
      "76\n",
      "78\n",
      "80\n",
      "82\n",
      "84\n",
      "86\n",
      "88\n",
      "90\n",
      "92\n",
      "94\n",
      "96\n",
      "98\n"
     ]
    }
   ],
   "source": [
    "x=int(input(\"select a number from 1 to 100\"))\n",
    "i=0\n",
    "for i in range(x):\n",
    "    if(i%2)==0:\n",
    "        print(i)\n",
    "        i=i+1"
   ]
  },
  {
   "cell_type": "markdown",
   "id": "1e3e368f-6812-4a58-9ace-2aa3d585f4c2",
   "metadata": {},
   "source": [
    "EVAL FUNCTION IN INPUT()\n",
    "-> takes a string and evaluates it as a Python expression, then returns the result."
   ]
  },
  {
   "cell_type": "code",
   "execution_count": 46,
   "id": "c80f82c4-d7ce-409f-bc27-e22f2487500b",
   "metadata": {},
   "outputs": [
    {
     "name": "stdin",
     "output_type": "stream",
     "text": [
      "enter an expression x+y-z+150\n"
     ]
    },
    {
     "name": "stdout",
     "output_type": "stream",
     "text": [
      "244\n"
     ]
    }
   ],
   "source": [
    "x=eval(input(\"enter an expression\"))\n",
    "print(x)"
   ]
  },
  {
   "cell_type": "code",
   "execution_count": null,
   "id": "49746e23-f45e-45cb-b63c-936daaf16535",
   "metadata": {},
   "outputs": [],
   "source": []
  },
  {
   "cell_type": "code",
   "execution_count": null,
   "id": "f09fcce8-2b89-403d-b94a-d233fa5272ef",
   "metadata": {},
   "outputs": [],
   "source": []
  },
  {
   "cell_type": "code",
   "execution_count": null,
   "id": "f7473ec9-753f-420c-b91d-e02fd3473c10",
   "metadata": {},
   "outputs": [],
   "source": []
  },
  {
   "cell_type": "code",
   "execution_count": null,
   "id": "047f9676-3a3d-42b7-8d86-856490d445f6",
   "metadata": {},
   "outputs": [],
   "source": []
  },
  {
   "cell_type": "code",
   "execution_count": null,
   "id": "14d3b054-b6fd-4fd2-a09c-b64af4361091",
   "metadata": {},
   "outputs": [],
   "source": []
  },
  {
   "cell_type": "code",
   "execution_count": null,
   "id": "66d40900-88af-4bc4-9b99-3656189f7849",
   "metadata": {},
   "outputs": [],
   "source": []
  },
  {
   "cell_type": "code",
   "execution_count": null,
   "id": "5ec94a8b-a7a1-43b7-b025-65c4a659b8fb",
   "metadata": {},
   "outputs": [],
   "source": []
  },
  {
   "cell_type": "code",
   "execution_count": null,
   "id": "c277f9ed-4e73-41fb-831d-1418fdce95fc",
   "metadata": {},
   "outputs": [],
   "source": []
  },
  {
   "cell_type": "code",
   "execution_count": null,
   "id": "fb853aab-eba8-41c9-9418-8113a7c0f75e",
   "metadata": {},
   "outputs": [],
   "source": []
  },
  {
   "cell_type": "code",
   "execution_count": null,
   "id": "b00fd393-cae5-4ee5-8065-01a90ec1ce6c",
   "metadata": {},
   "outputs": [],
   "source": []
  },
  {
   "cell_type": "code",
   "execution_count": null,
   "id": "37cd9fdf-99ab-4518-af25-11fb718e73d5",
   "metadata": {},
   "outputs": [],
   "source": []
  },
  {
   "cell_type": "code",
   "execution_count": null,
   "id": "643db0da-eb7c-4e53-bf84-51e0c43230ac",
   "metadata": {},
   "outputs": [],
   "source": []
  },
  {
   "cell_type": "code",
   "execution_count": null,
   "id": "b933b3ca-7dca-423d-b891-e5181b2bee63",
   "metadata": {},
   "outputs": [],
   "source": []
  },
  {
   "cell_type": "code",
   "execution_count": null,
   "id": "02095e0b-0cbc-43b9-970c-12ac980f3af2",
   "metadata": {},
   "outputs": [],
   "source": []
  },
  {
   "cell_type": "code",
   "execution_count": null,
   "id": "f4268f51-34b5-4b06-898e-40321afadbd9",
   "metadata": {},
   "outputs": [],
   "source": []
  },
  {
   "cell_type": "code",
   "execution_count": null,
   "id": "21b86b6f-fa60-41ee-9a96-9d6eac9a95a2",
   "metadata": {},
   "outputs": [],
   "source": []
  },
  {
   "cell_type": "code",
   "execution_count": null,
   "id": "2b40031b-4a8d-4937-bd23-2bb41fc1ca11",
   "metadata": {},
   "outputs": [],
   "source": []
  },
  {
   "cell_type": "code",
   "execution_count": null,
   "id": "8078c089-7fed-4759-abdf-8f0307f0d9ca",
   "metadata": {},
   "outputs": [],
   "source": []
  },
  {
   "cell_type": "code",
   "execution_count": null,
   "id": "b04ca678-02be-449c-81d1-45bf384b4f4c",
   "metadata": {},
   "outputs": [],
   "source": []
  },
  {
   "cell_type": "code",
   "execution_count": null,
   "id": "5a171d51-7974-45a3-8054-ba7cb29dc4fd",
   "metadata": {},
   "outputs": [],
   "source": []
  },
  {
   "cell_type": "code",
   "execution_count": null,
   "id": "c1764a55-b64f-429a-8be2-a72d27d3f8cc",
   "metadata": {},
   "outputs": [],
   "source": []
  }
 ],
 "metadata": {
  "kernelspec": {
   "display_name": "Python 3 (ipykernel)",
   "language": "python",
   "name": "python3"
  },
  "language_info": {
   "codemirror_mode": {
    "name": "ipython",
    "version": 3
   },
   "file_extension": ".py",
   "mimetype": "text/x-python",
   "name": "python",
   "nbconvert_exporter": "python",
   "pygments_lexer": "ipython3",
   "version": "3.13.5"
  }
 },
 "nbformat": 4,
 "nbformat_minor": 5
}
