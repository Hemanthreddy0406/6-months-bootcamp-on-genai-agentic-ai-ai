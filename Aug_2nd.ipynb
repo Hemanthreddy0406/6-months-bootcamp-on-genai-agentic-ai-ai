{
 "cells": [
  {
   "cell_type": "code",
   "execution_count": 1,
   "id": "c659b3b1-4207-443e-9a1c-ec397a7a5d0c",
   "metadata": {},
   "outputs": [
    {
     "data": {
      "text/plain": [
       "[]"
      ]
     },
     "execution_count": 1,
     "metadata": {},
     "output_type": "execute_result"
    }
   ],
   "source": [
    "l1=[]\n",
    "l1"
   ]
  },
  {
   "cell_type": "code",
   "execution_count": 2,
   "id": "bdef2fb4-56b1-4de5-acb5-5766a3813222",
   "metadata": {},
   "outputs": [
    {
     "data": {
      "text/plain": [
       "[2, 2.3, 'he', (1+2j), [1, 2, 3]]"
      ]
     },
     "execution_count": 2,
     "metadata": {},
     "output_type": "execute_result"
    }
   ],
   "source": [
    "l1=[2,2.3,\"he\",1+2j,[1,2,3]]\n",
    "l1"
   ]
  },
  {
   "cell_type": "code",
   "execution_count": 42,
   "id": "c414952c-7041-4f5e-9a0b-b0bc5472c889",
   "metadata": {},
   "outputs": [],
   "source": [
    "l1.append(\"Duplicates are allowed\")"
   ]
  },
  {
   "cell_type": "code",
   "execution_count": 43,
   "id": "37d91cb9-aef4-4b64-b2df-59d1326bf879",
   "metadata": {},
   "outputs": [
    {
     "data": {
      "text/plain": [
       "[2,\n",
       " 2.3,\n",
       " 'he',\n",
       " (1+2j),\n",
       " [1, 2, 3],\n",
       " 3,\n",
       " 3,\n",
       " 'Duplicates are allowed',\n",
       " 'Duplicates are allowed',\n",
       " 'Duplicates are allowed',\n",
       " 'Duplicates are allowed']"
      ]
     },
     "execution_count": 43,
     "metadata": {},
     "output_type": "execute_result"
    }
   ],
   "source": [
    "l1"
   ]
  },
  {
   "cell_type": "code",
   "execution_count": 9,
   "id": "e29b25bf-707d-48a2-8ccd-6c4de1496749",
   "metadata": {},
   "outputs": [
    {
     "data": {
      "text/plain": [
       "8"
      ]
     },
     "execution_count": 9,
     "metadata": {},
     "output_type": "execute_result"
    }
   ],
   "source": [
    "length=len(l1)\n",
    "length"
   ]
  },
  {
   "cell_type": "code",
   "execution_count": 10,
   "id": "5aeead33-f1ca-47f0-9028-e2c59971b949",
   "metadata": {},
   "outputs": [
    {
     "data": {
      "text/plain": [
       "[2,\n",
       " 2.3,\n",
       " 'he',\n",
       " [1, 2, 3],\n",
       " 'Duplicates are allowed',\n",
       " 'Duplicates are allowed',\n",
       " 'Duplicates are allowed']"
      ]
     },
     "execution_count": 10,
     "metadata": {},
     "output_type": "execute_result"
    }
   ],
   "source": [
    "l1.remove(1+2j)\n",
    "l1"
   ]
  },
  {
   "cell_type": "code",
   "execution_count": 16,
   "id": "8426bfab-bda9-4dae-a1c2-cf1213eb41e9",
   "metadata": {},
   "outputs": [
    {
     "data": {
      "text/plain": [
       "[2,\n",
       " 'he',\n",
       " [1, 2, 3],\n",
       " 'Duplicates are allowed',\n",
       " 'Duplicates are allowed',\n",
       " 'Duplicates are allowed']"
      ]
     },
     "execution_count": 16,
     "metadata": {},
     "output_type": "execute_result"
    }
   ],
   "source": [
    "l1.pop(1)\n",
    "l1"
   ]
  },
  {
   "cell_type": "code",
   "execution_count": 29,
   "id": "05223e38-0cb0-4f18-b751-b5a5628628cd",
   "metadata": {},
   "outputs": [
    {
     "data": {
      "text/plain": [
       "'Duplicates are allowed'"
      ]
     },
     "execution_count": 29,
     "metadata": {},
     "output_type": "execute_result"
    }
   ],
   "source": [
    "l1"
   ]
  },
  {
   "cell_type": "code",
   "execution_count": 27,
   "id": "b5808612-7dfb-4c45-803f-3a038de6c84d",
   "metadata": {},
   "outputs": [
    {
     "data": {
      "text/plain": [
       "'Duplicates are allowed'"
      ]
     },
     "execution_count": 27,
     "metadata": {},
     "output_type": "execute_result"
    }
   ],
   "source": [
    "l1"
   ]
  },
  {
   "cell_type": "code",
   "execution_count": 32,
   "id": "a1e0855c-5d3c-48b7-b6a8-ffd7545aec9e",
   "metadata": {},
   "outputs": [
    {
     "data": {
      "text/plain": [
       "[2, 2.3, 'he', (1+2j), [1, 2, 3]]"
      ]
     },
     "execution_count": 32,
     "metadata": {},
     "output_type": "execute_result"
    }
   ],
   "source": [
    "l1=[2,2.3,\"he\",1+2j,[1,2,3]]\n",
    "l1"
   ]
  },
  {
   "cell_type": "code",
   "execution_count": 33,
   "id": "4e58d9a3-c9cd-49ac-8760-4146eef979b1",
   "metadata": {},
   "outputs": [
    {
     "data": {
      "text/plain": [
       "3"
      ]
     },
     "execution_count": 33,
     "metadata": {},
     "output_type": "execute_result"
    }
   ],
   "source": [
    "l1.index((1+2j))\n"
   ]
  },
  {
   "cell_type": "code",
   "execution_count": 38,
   "id": "1f8679c5-1e56-43a2-b850-b706c3fb9a5b",
   "metadata": {},
   "outputs": [
    {
     "data": {
      "text/plain": [
       "[2, 2.3, 'he', (1+2j), [1, 2, 3], 3, 3]"
      ]
     },
     "execution_count": 38,
     "metadata": {},
     "output_type": "execute_result"
    }
   ],
   "source": [
    "l1.insert(5,3)\n",
    "l1"
   ]
  },
  {
   "cell_type": "code",
   "execution_count": 45,
   "id": "8112d02a-4610-499e-9db0-0847c9d50a98",
   "metadata": {},
   "outputs": [
    {
     "data": {
      "text/plain": [
       "[1, 2.0, (3+3j), 'he', True, [1, 2, 3]]"
      ]
     },
     "execution_count": 45,
     "metadata": {},
     "output_type": "execute_result"
    }
   ],
   "source": [
    "l=[1,2.0,3+3j,\"he\",True,[1,2,3]]\n",
    "l"
   ]
  },
  {
   "cell_type": "code",
   "execution_count": 46,
   "id": "803ec503-4fa0-4273-80aa-a6bbea50fc22",
   "metadata": {},
   "outputs": [
    {
     "data": {
      "text/plain": [
       "[1, 2.0, (3+3j), 'he', True, [1, 2, 3], 10]"
      ]
     },
     "execution_count": 46,
     "metadata": {},
     "output_type": "execute_result"
    }
   ],
   "source": [
    "l.append(10)\n",
    "l"
   ]
  },
  {
   "cell_type": "code",
   "execution_count": 49,
   "id": "e0a145bd-613a-4630-88e4-3f48d7910f47",
   "metadata": {},
   "outputs": [
    {
     "data": {
      "text/plain": [
       "[1, 2.0, (3+3j), 20, 'he', True, [1, 2, 3], 10, 3, 3]"
      ]
     },
     "execution_count": 49,
     "metadata": {},
     "output_type": "execute_result"
    }
   ],
   "source": [
    "l.insert(3,20)\n",
    "l\n",
    "\n"
   ]
  },
  {
   "cell_type": "code",
   "execution_count": 50,
   "id": "3d72651b-b225-4e4e-8090-1143b2070a53",
   "metadata": {},
   "outputs": [
    {
     "data": {
      "text/plain": [
       "[1, 2.0, (3+3j), 20, 'he', True, [1, 2, 3], 10, 3, 3]"
      ]
     },
     "execution_count": 50,
     "metadata": {},
     "output_type": "execute_result"
    }
   ],
   "source": [
    "l"
   ]
  },
  {
   "cell_type": "code",
   "execution_count": 51,
   "id": "97149b85-f73e-4d4e-bd2d-9bdbb8707103",
   "metadata": {},
   "outputs": [
    {
     "data": {
      "text/plain": [
       "[1, 2.0, (3+3j), 20, 'he', True, [1, 2, 3], 10, 3]"
      ]
     },
     "execution_count": 51,
     "metadata": {},
     "output_type": "execute_result"
    }
   ],
   "source": [
    "l.pop()\n",
    "l"
   ]
  },
  {
   "cell_type": "code",
   "execution_count": 52,
   "id": "03387bed-4f24-476c-a913-a53415965696",
   "metadata": {},
   "outputs": [
    {
     "data": {
      "text/plain": [
       "[1, 2.0, (3+3j), 20, 'he', True, [1, 2, 3], 10]"
      ]
     },
     "execution_count": 52,
     "metadata": {},
     "output_type": "execute_result"
    }
   ],
   "source": [
    "l.pop()\n",
    "l"
   ]
  },
  {
   "cell_type": "code",
   "execution_count": 56,
   "id": "cd44fcec-ed45-426c-a11d-c2881f60d534",
   "metadata": {},
   "outputs": [
    {
     "data": {
      "text/plain": [
       "[1, 1000, 1000, 2.0, (3+3j), 20, 'he', True, [1, 2, 3], 10]"
      ]
     },
     "execution_count": 56,
     "metadata": {},
     "output_type": "execute_result"
    }
   ],
   "source": [
    "l.insert(1,1000)\n",
    "l"
   ]
  },
  {
   "cell_type": "code",
   "execution_count": 57,
   "id": "e2628744-896c-4195-885e-53504295b890",
   "metadata": {},
   "outputs": [
    {
     "data": {
      "text/plain": [
       "[1, 1000, 1000, 2.0, (3+3j), 20, 'he', True, [1, 2, 3], 10]"
      ]
     },
     "execution_count": 57,
     "metadata": {},
     "output_type": "execute_result"
    }
   ],
   "source": [
    "l"
   ]
  },
  {
   "cell_type": "code",
   "execution_count": 58,
   "id": "64fe475b-c920-43a1-b703-ef3e7299d5ea",
   "metadata": {},
   "outputs": [
    {
     "data": {
      "text/plain": [
       "[1, 1000, 2.0, (3+3j), 20, 'he', True, [1, 2, 3], 10]"
      ]
     },
     "execution_count": 58,
     "metadata": {},
     "output_type": "execute_result"
    }
   ],
   "source": [
    "l.remove(1000)\n",
    "l"
   ]
  },
  {
   "cell_type": "code",
   "execution_count": 60,
   "id": "f93b3845-71a1-4111-be9a-1ba3a3214f49",
   "metadata": {},
   "outputs": [
    {
     "ename": "TypeError",
     "evalue": "'<' not supported between instances of 'complex' and 'float'",
     "output_type": "error",
     "traceback": [
      "\u001b[0;31m---------------------------------------------------------------------------\u001b[0m",
      "\u001b[0;31mTypeError\u001b[0m                                 Traceback (most recent call last)",
      "Cell \u001b[0;32mIn[60], line 1\u001b[0m\n\u001b[0;32m----> 1\u001b[0m l\u001b[38;5;241m.\u001b[39msort()\n\u001b[1;32m      2\u001b[0m l\n",
      "\u001b[0;31mTypeError\u001b[0m: '<' not supported between instances of 'complex' and 'float'"
     ]
    }
   ],
   "source": [
    "l.sort()\n",
    "l"
   ]
  },
  {
   "cell_type": "code",
   "execution_count": 61,
   "id": "0a723754-5727-42d7-8b53-0cd431ae927a",
   "metadata": {},
   "outputs": [
    {
     "data": {
      "text/plain": [
       "4.242640687119285"
      ]
     },
     "execution_count": 61,
     "metadata": {},
     "output_type": "execute_result"
    }
   ],
   "source": [
    "abs(3+3j)"
   ]
  },
  {
   "cell_type": "code",
   "execution_count": null,
   "id": "ce86345e-202e-4554-af25-5a274b714f66",
   "metadata": {},
   "outputs": [],
   "source": [
    "l.sort(reverse=True)\n",
    "\n"
   ]
  },
  {
   "cell_type": "markdown",
   "id": "f366c975-6080-4c15-8445-40d3ed56eaf5",
   "metadata": {},
   "source": [
    "Tunning are 3 types\n",
    "1)paramater tunning->system given paramater\n",
    "2)hyperparamater tunning->user changes the system parameter \n",
    "3)finetune->llm tunning"
   ]
  },
  {
   "cell_type": "code",
   "execution_count": null,
   "id": "986d352c-4b4c-4862-9bfc-aa7d61b681b4",
   "metadata": {},
   "outputs": [],
   "source": []
  },
  {
   "cell_type": "code",
   "execution_count": null,
   "id": "61d3813a-4bca-4284-81e9-7018c68040f8",
   "metadata": {},
   "outputs": [],
   "source": []
  },
  {
   "cell_type": "code",
   "execution_count": null,
   "id": "c993ed04-121c-4703-9422-e84bc54b6dbe",
   "metadata": {},
   "outputs": [],
   "source": []
  },
  {
   "cell_type": "code",
   "execution_count": null,
   "id": "2b06a0f0-f7a2-4a6b-858b-c62e03aca72b",
   "metadata": {},
   "outputs": [],
   "source": []
  },
  {
   "cell_type": "code",
   "execution_count": null,
   "id": "1bcf8350-411d-4597-aac6-ed791827c899",
   "metadata": {},
   "outputs": [],
   "source": []
  },
  {
   "cell_type": "code",
   "execution_count": null,
   "id": "d64aff26-dfef-4785-89ce-3e5cdafddfa1",
   "metadata": {},
   "outputs": [],
   "source": []
  },
  {
   "cell_type": "code",
   "execution_count": null,
   "id": "c55e8de0-c507-41d8-bb95-8713ba728b49",
   "metadata": {},
   "outputs": [],
   "source": []
  },
  {
   "cell_type": "code",
   "execution_count": null,
   "id": "75ebc653-c2db-4eae-a794-c0ec1a61cbbe",
   "metadata": {},
   "outputs": [],
   "source": []
  },
  {
   "cell_type": "code",
   "execution_count": null,
   "id": "7d769b9b-5cc7-4f09-9b12-3b220a762d86",
   "metadata": {},
   "outputs": [],
   "source": []
  },
  {
   "cell_type": "markdown",
   "id": "7f01f276-3d20-42d5-b26f-2755f304526d",
   "metadata": {},
   "source": []
  }
 ],
 "metadata": {
  "kernelspec": {
   "display_name": "Python 3 (ipykernel)",
   "language": "python",
   "name": "python3"
  },
  "language_info": {
   "codemirror_mode": {
    "name": "ipython",
    "version": 3
   },
   "file_extension": ".py",
   "mimetype": "text/x-python",
   "name": "python",
   "nbconvert_exporter": "python",
   "pygments_lexer": "ipython3",
   "version": "3.13.5"
  }
 },
 "nbformat": 4,
 "nbformat_minor": 5
}
