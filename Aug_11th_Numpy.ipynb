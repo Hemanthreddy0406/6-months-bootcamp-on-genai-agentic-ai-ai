{
 "cells": [
  {
   "cell_type": "markdown",
   "id": "d6227cc8-e8d1-46cd-8502-2fda89026d70",
   "metadata": {},
   "source": [
    "NUMPY"
   ]
  },
  {
   "cell_type": "code",
   "execution_count": 6,
   "id": "b6464321-cd4e-4d33-bbb6-c2e50fd435b0",
   "metadata": {},
   "outputs": [],
   "source": [
    "import numpy as np"
   ]
  },
  {
   "cell_type": "code",
   "execution_count": 10,
   "id": "5e168b01-1695-4aac-8315-f8b41fb8a104",
   "metadata": {},
   "outputs": [
    {
     "data": {
      "text/plain": [
       "'2.1.3'"
      ]
     },
     "execution_count": 10,
     "metadata": {},
     "output_type": "execute_result"
    }
   ],
   "source": [
    "np.__version__"
   ]
  },
  {
   "cell_type": "code",
   "execution_count": 8,
   "id": "dae03478-4078-4f33-8c90-4d03c179f0a0",
   "metadata": {},
   "outputs": [
    {
     "data": {
      "text/plain": [
       "[0, 1, 2, 3, 4, 5]"
      ]
     },
     "execution_count": 8,
     "metadata": {},
     "output_type": "execute_result"
    }
   ],
   "source": [
    "l1=[0,1,2,3,4,5]\n",
    "l1"
   ]
  },
  {
   "cell_type": "code",
   "execution_count": 9,
   "id": "13f18c07-44eb-4de5-9dc4-9868991817c9",
   "metadata": {},
   "outputs": [
    {
     "data": {
      "text/plain": [
       "list"
      ]
     },
     "execution_count": 9,
     "metadata": {},
     "output_type": "execute_result"
    }
   ],
   "source": [
    "type(l1)"
   ]
  },
  {
   "cell_type": "markdown",
   "id": "a3cca403-5a6d-4cf5-8f09-02b8483c1da0",
   "metadata": {},
   "source": [
    "#converting list into an array using numpy"
   ]
  },
  {
   "cell_type": "code",
   "execution_count": 11,
   "id": "b7757de9-866d-4c41-83fd-fc5e9d550f15",
   "metadata": {},
   "outputs": [
    {
     "data": {
      "text/plain": [
       "array([0, 1, 2, 3, 4, 5])"
      ]
     },
     "execution_count": 11,
     "metadata": {},
     "output_type": "execute_result"
    }
   ],
   "source": [
    "arr=np.array(l1)\n",
    "arr"
   ]
  },
  {
   "cell_type": "code",
   "execution_count": 12,
   "id": "6f389315-ad42-46f8-9d02-3a7432d8a62d",
   "metadata": {},
   "outputs": [
    {
     "name": "stdout",
     "output_type": "stream",
     "text": [
      "<class 'numpy.ndarray'>\n"
     ]
    }
   ],
   "source": [
    "print(type(arr))"
   ]
  },
  {
   "cell_type": "code",
   "execution_count": 14,
   "id": "4385581b-ac32-4474-b5db-0b11fef17f35",
   "metadata": {},
   "outputs": [
    {
     "data": {
      "text/plain": [
       "array([0, 1, 2, 3, 4, 5, 6, 7, 8, 9])"
      ]
     },
     "execution_count": 14,
     "metadata": {},
     "output_type": "execute_result"
    }
   ],
   "source": [
    "np.arange(10)"
   ]
  },
  {
   "cell_type": "code",
   "execution_count": 16,
   "id": "4d7ae7bc-5b3e-4819-8eaa-960e0df5e1b3",
   "metadata": {},
   "outputs": [
    {
     "data": {
      "text/plain": [
       "array([10, 11, 12, 13, 14, 15, 16, 17, 18, 19])"
      ]
     },
     "execution_count": 16,
     "metadata": {},
     "output_type": "execute_result"
    }
   ],
   "source": [
    "np.arange(10,20)"
   ]
  },
  {
   "cell_type": "code",
   "execution_count": 17,
   "id": "c64b6d0d-6a78-44dd-9863-5ee01a231b55",
   "metadata": {},
   "outputs": [
    {
     "data": {
      "text/plain": [
       "array([10, 14, 18])"
      ]
     },
     "execution_count": 17,
     "metadata": {},
     "output_type": "execute_result"
    }
   ],
   "source": [
    "np.arange(10,20,4)"
   ]
  },
  {
   "cell_type": "code",
   "execution_count": 18,
   "id": "ee37e44a-de92-49c8-a12f-b258d027ea02",
   "metadata": {},
   "outputs": [
    {
     "data": {
      "text/plain": [
       "array([], dtype=int64)"
      ]
     },
     "execution_count": 18,
     "metadata": {},
     "output_type": "execute_result"
    }
   ],
   "source": [
    "np.arange(20,10)"
   ]
  },
  {
   "cell_type": "code",
   "execution_count": 19,
   "id": "2d088b48-0036-433b-afd5-aff010e709b0",
   "metadata": {},
   "outputs": [
    {
     "data": {
      "text/plain": [
       "array([-20, -19, -18, -17, -16, -15, -14, -13, -12, -11, -10,  -9,  -8,\n",
       "        -7,  -6,  -5,  -4,  -3,  -2,  -1,   0,   1,   2,   3,   4,   5,\n",
       "         6,   7,   8,   9])"
      ]
     },
     "execution_count": 19,
     "metadata": {},
     "output_type": "execute_result"
    }
   ],
   "source": [
    "np.arange(-20,10)"
   ]
  },
  {
   "cell_type": "markdown",
   "id": "186c03c4-79b1-4924-b9f2-5dfe42bab461",
   "metadata": {},
   "source": [
    "np.array(2,10)\n",
    "2 indicates rows\n",
    "10 indicates columns"
   ]
  },
  {
   "cell_type": "code",
   "execution_count": 23,
   "id": "7b34df26-2c3a-4bff-8116-05484dc4758d",
   "metadata": {},
   "outputs": [
    {
     "data": {
      "text/plain": [
       "array([10, 10])"
      ]
     },
     "execution_count": 23,
     "metadata": {},
     "output_type": "execute_result"
    }
   ],
   "source": [
    "np.array([10,10])"
   ]
  },
  {
   "cell_type": "code",
   "execution_count": 24,
   "id": "ecd337d8-4d66-4900-9b92-15c7ca9e7d35",
   "metadata": {},
   "outputs": [
    {
     "data": {
      "text/plain": [
       "array([[1., 1., 1., 1., 1.],\n",
       "       [1., 1., 1., 1., 1.],\n",
       "       [1., 1., 1., 1., 1.],\n",
       "       [1., 1., 1., 1., 1.]])"
      ]
     },
     "execution_count": 24,
     "metadata": {},
     "output_type": "execute_result"
    }
   ],
   "source": [
    "np.ones([4,5])"
   ]
  },
  {
   "cell_type": "code",
   "execution_count": 26,
   "id": "777af74d-a036-4724-878e-17b63f0dac5a",
   "metadata": {},
   "outputs": [
    {
     "data": {
      "text/plain": [
       "array([[0., 0., 0., 0., 0.],\n",
       "       [0., 0., 0., 0., 0.],\n",
       "       [0., 0., 0., 0., 0.],\n",
       "       [0., 0., 0., 0., 0.]])"
      ]
     },
     "execution_count": 26,
     "metadata": {},
     "output_type": "execute_result"
    }
   ],
   "source": [
    "np.zeros([4,5])"
   ]
  },
  {
   "cell_type": "code",
   "execution_count": 27,
   "id": "defb7d96-1af1-4d4c-8f61-8b2297a55b97",
   "metadata": {},
   "outputs": [
    {
     "data": {
      "text/plain": [
       "array([0, 1, 2, 3, 4, 5])"
      ]
     },
     "execution_count": 27,
     "metadata": {},
     "output_type": "execute_result"
    }
   ],
   "source": [
    "arr"
   ]
  },
  {
   "cell_type": "markdown",
   "id": "6c939900-d957-4b11-b94c-59aa9f1b8cea",
   "metadata": {},
   "source": [
    "#The random module has a rand() function used to create  random numbers."
   ]
  },
  {
   "cell_type": "code",
   "execution_count": 28,
   "id": "1a4c0b1b-b250-4c72-a712-590070d1431e",
   "metadata": {},
   "outputs": [
    {
     "ename": "NameError",
     "evalue": "name 'rand' is not defined",
     "output_type": "error",
     "traceback": [
      "\u001b[0;31m---------------------------------------------------------------------------\u001b[0m",
      "\u001b[0;31mNameError\u001b[0m                                 Traceback (most recent call last)",
      "Cell \u001b[0;32mIn[28], line 1\u001b[0m\n\u001b[0;32m----> 1\u001b[0m rand(\u001b[38;5;241m5\u001b[39m,\u001b[38;5;241m6\u001b[39m)\n",
      "\u001b[0;31mNameError\u001b[0m: name 'rand' is not defined"
     ]
    }
   ],
   "source": [
    "rand(5,6)"
   ]
  },
  {
   "cell_type": "code",
   "execution_count": 29,
   "id": "028202aa-d537-4c71-8c0d-666d215c17bf",
   "metadata": {},
   "outputs": [
    {
     "ename": "NameError",
     "evalue": "name 'random' is not defined",
     "output_type": "error",
     "traceback": [
      "\u001b[0;31m---------------------------------------------------------------------------\u001b[0m",
      "\u001b[0;31mNameError\u001b[0m                                 Traceback (most recent call last)",
      "Cell \u001b[0;32mIn[29], line 1\u001b[0m\n\u001b[0;32m----> 1\u001b[0m random\u001b[38;5;241m.\u001b[39mrand(\u001b[38;5;241m5\u001b[39m,\u001b[38;5;241m6\u001b[39m)\n",
      "\u001b[0;31mNameError\u001b[0m: name 'random' is not defined"
     ]
    }
   ],
   "source": [
    "random.rand(5,6)"
   ]
  },
  {
   "cell_type": "code",
   "execution_count": 30,
   "id": "dcd2e348-ff93-446f-9527-a622c54f906b",
   "metadata": {},
   "outputs": [
    {
     "data": {
      "text/plain": [
       "array([[0.02458185, 0.75475593, 0.87513169, 0.59976967, 0.2420933 ,\n",
       "        0.72646519],\n",
       "       [0.4547189 , 0.02400348, 0.76429735, 0.06197035, 0.89137183,\n",
       "        0.31720429],\n",
       "       [0.39295448, 0.99089697, 0.74172553, 0.53202382, 0.18622606,\n",
       "        0.67948869],\n",
       "       [0.26350301, 0.63506825, 0.8683771 , 0.93867474, 0.13959114,\n",
       "        0.07639518],\n",
       "       [0.79540646, 0.96924736, 0.05023295, 0.23444062, 0.61694867,\n",
       "        0.06811202]])"
      ]
     },
     "execution_count": 30,
     "metadata": {},
     "output_type": "execute_result"
    }
   ],
   "source": [
    "np.random.rand(5,6)"
   ]
  },
  {
   "cell_type": "code",
   "execution_count": 31,
   "id": "bf7ca0f9-e2dc-4c7e-a2e3-4ef09e4d3e41",
   "metadata": {},
   "outputs": [
    {
     "data": {
      "text/plain": [
       "array([0.24104024, 0.43020921, 0.02730565])"
      ]
     },
     "execution_count": 31,
     "metadata": {},
     "output_type": "execute_result"
    }
   ],
   "source": [
    "np.random.rand(3)"
   ]
  },
  {
   "cell_type": "code",
   "execution_count": 32,
   "id": "96f92504-afb7-4a06-bb49-9e8c8a0ce3f7",
   "metadata": {},
   "outputs": [
    {
     "data": {
      "text/plain": [
       "array([[0.31937485, 0.22317328, 0.78408191, 0.15561786, 0.73236073,\n",
       "        0.04586872],\n",
       "       [0.55271535, 0.40756964, 0.1635106 , 0.06629466, 0.58249742,\n",
       "        0.96974059],\n",
       "       [0.66503075, 0.01628181, 0.96043278, 0.21158563, 0.16069235,\n",
       "        0.7555047 ],\n",
       "       [0.37925609, 0.85976176, 0.68988797, 0.50911187, 0.8673677 ,\n",
       "        0.67062135],\n",
       "       [0.67389655, 0.62930821, 0.23523686, 0.42729374, 0.56629189,\n",
       "        0.79555666]])"
      ]
     },
     "execution_count": 32,
     "metadata": {},
     "output_type": "execute_result"
    }
   ],
   "source": [
    "np.random.rand(5,6)"
   ]
  },
  {
   "cell_type": "markdown",
   "id": "1f94257b-2978-447a-8ca4-a3384e36a504",
   "metadata": {},
   "source": [
    "#The rand function returns float by default.\n",
    "to convert them into int we use randint()"
   ]
  },
  {
   "cell_type": "code",
   "execution_count": 33,
   "id": "2ceff667-3afa-4dbb-bcba-db75523d0eb4",
   "metadata": {},
   "outputs": [
    {
     "data": {
      "text/plain": [
       "4"
      ]
     },
     "execution_count": 33,
     "metadata": {},
     "output_type": "execute_result"
    }
   ],
   "source": [
    "np.random.randint(4,6)"
   ]
  },
  {
   "cell_type": "code",
   "execution_count": 37,
   "id": "efca11f3-0777-4747-96d1-52ad16128e87",
   "metadata": {},
   "outputs": [
    {
     "data": {
      "text/plain": [
       "1"
      ]
     },
     "execution_count": 37,
     "metadata": {},
     "output_type": "execute_result"
    }
   ],
   "source": [
    "np.random.randint(5)"
   ]
  },
  {
   "cell_type": "code",
   "execution_count": 38,
   "id": "44266368-828b-4165-8cec-db546bf73637",
   "metadata": {},
   "outputs": [
    {
     "data": {
      "text/plain": [
       "array([2, 6])"
      ]
     },
     "execution_count": 38,
     "metadata": {},
     "output_type": "execute_result"
    }
   ],
   "source": [
    "np.random.randint(1,10,2)"
   ]
  },
  {
   "cell_type": "code",
   "execution_count": 39,
   "id": "6dd66ab0-4ffb-46d3-b72b-cd700921b0e4",
   "metadata": {},
   "outputs": [
    {
     "data": {
      "text/plain": [
       "array([0, 3, 3, 3, 2])"
      ]
     },
     "execution_count": 39,
     "metadata": {},
     "output_type": "execute_result"
    }
   ],
   "source": [
    "np.random.randint(0,5,5)"
   ]
  },
  {
   "cell_type": "code",
   "execution_count": 43,
   "id": "7d47745e-9d7b-4513-9a7e-485907619759",
   "metadata": {},
   "outputs": [
    {
     "data": {
      "text/plain": [
       "array([[25, 13, 21, 12, 37, 18, 14, 24, 38, 32],\n",
       "       [26, 10, 25, 30, 17, 10, 33, 27, 39, 11],\n",
       "       [12, 17, 25, 35, 18, 19, 25, 39, 35, 32],\n",
       "       [32, 31, 14, 28, 11, 25, 19, 38, 14, 27],\n",
       "       [29, 27, 13, 11, 30, 26, 28, 39, 36, 25]])"
      ]
     },
     "execution_count": 43,
     "metadata": {},
     "output_type": "execute_result"
    }
   ],
   "source": [
    "n=np.random.randint(10,40,(5,10))\n",
    "n"
   ]
  },
  {
   "cell_type": "markdown",
   "id": "97d54370-9950-4d40-97fa-6f9d79ec3af9",
   "metadata": {},
   "source": [
    "#slicing in matrices"
   ]
  },
  {
   "cell_type": "code",
   "execution_count": 44,
   "id": "ce42f7f5-9a72-4297-aa7b-911a91bdd2d5",
   "metadata": {},
   "outputs": [
    {
     "data": {
      "text/plain": [
       "array([25, 13, 21, 12, 37, 18, 14, 24, 38, 32])"
      ]
     },
     "execution_count": 44,
     "metadata": {},
     "output_type": "execute_result"
    }
   ],
   "source": [
    "n[0]"
   ]
  },
  {
   "cell_type": "code",
   "execution_count": 45,
   "id": "9262931c-98e5-421e-af7a-ccc26f30eb11",
   "metadata": {},
   "outputs": [
    {
     "data": {
      "text/plain": [
       "array([29, 27, 13, 11, 30, 26, 28, 39, 36, 25])"
      ]
     },
     "execution_count": 45,
     "metadata": {},
     "output_type": "execute_result"
    }
   ],
   "source": [
    "n[4]"
   ]
  },
  {
   "cell_type": "code",
   "execution_count": 46,
   "id": "a7293efe-a85e-494d-b5cd-b6bc1000b9bb",
   "metadata": {},
   "outputs": [
    {
     "data": {
      "text/plain": [
       "array([[25, 13, 21, 12, 37, 18, 14, 24, 38, 32],\n",
       "       [26, 10, 25, 30, 17, 10, 33, 27, 39, 11],\n",
       "       [12, 17, 25, 35, 18, 19, 25, 39, 35, 32],\n",
       "       [32, 31, 14, 28, 11, 25, 19, 38, 14, 27]])"
      ]
     },
     "execution_count": 46,
     "metadata": {},
     "output_type": "execute_result"
    }
   ],
   "source": [
    "n[0:4]"
   ]
  },
  {
   "cell_type": "code",
   "execution_count": 47,
   "id": "c7902198-7377-46bb-b21d-f617f40b82ce",
   "metadata": {},
   "outputs": [
    {
     "data": {
      "text/plain": [
       "array([[25, 13, 21, 12, 37, 18, 14, 24, 38, 32],\n",
       "       [26, 10, 25, 30, 17, 10, 33, 27, 39, 11],\n",
       "       [12, 17, 25, 35, 18, 19, 25, 39, 35, 32],\n",
       "       [32, 31, 14, 28, 11, 25, 19, 38, 14, 27],\n",
       "       [29, 27, 13, 11, 30, 26, 28, 39, 36, 25]])"
      ]
     },
     "execution_count": 47,
     "metadata": {},
     "output_type": "execute_result"
    }
   ],
   "source": [
    "n[0:7]"
   ]
  },
  {
   "cell_type": "code",
   "execution_count": 48,
   "id": "bba19f1d-6e28-4124-8032-18dc15ae8ac3",
   "metadata": {},
   "outputs": [
    {
     "data": {
      "text/plain": [
       "array([[29, 27, 13, 11, 30, 26, 28, 39, 36, 25],\n",
       "       [32, 31, 14, 28, 11, 25, 19, 38, 14, 27],\n",
       "       [12, 17, 25, 35, 18, 19, 25, 39, 35, 32],\n",
       "       [26, 10, 25, 30, 17, 10, 33, 27, 39, 11],\n",
       "       [25, 13, 21, 12, 37, 18, 14, 24, 38, 32]])"
      ]
     },
     "execution_count": 48,
     "metadata": {},
     "output_type": "execute_result"
    }
   ],
   "source": [
    "n[::-1]"
   ]
  },
  {
   "cell_type": "code",
   "execution_count": 49,
   "id": "80d68429-a393-4719-ab88-da7a2df1e5db",
   "metadata": {},
   "outputs": [
    {
     "data": {
      "text/plain": [
       "array([[25, 13, 21, 12, 37, 18, 14, 24, 38, 32],\n",
       "       [26, 10, 25, 30, 17, 10, 33, 27, 39, 11],\n",
       "       [12, 17, 25, 35, 18, 19, 25, 39, 35, 32],\n",
       "       [32, 31, 14, 28, 11, 25, 19, 38, 14, 27],\n",
       "       [29, 27, 13, 11, 30, 26, 28, 39, 36, 25]])"
      ]
     },
     "execution_count": 49,
     "metadata": {},
     "output_type": "execute_result"
    }
   ],
   "source": [
    "n"
   ]
  },
  {
   "cell_type": "code",
   "execution_count": 50,
   "id": "24282d1c-cf0a-403c-b5d7-f47ee958a14b",
   "metadata": {},
   "outputs": [
    {
     "data": {
      "text/plain": [
       "array([[25, 13, 21, 12, 37, 18, 14, 24, 38, 32],\n",
       "       [12, 17, 25, 35, 18, 19, 25, 39, 35, 32],\n",
       "       [29, 27, 13, 11, 30, 26, 28, 39, 36, 25]])"
      ]
     },
     "execution_count": 50,
     "metadata": {},
     "output_type": "execute_result"
    }
   ],
   "source": [
    "n[::2]"
   ]
  },
  {
   "cell_type": "code",
   "execution_count": 54,
   "id": "ddcd6a66-a344-43aa-a285-14ba39fc3f74",
   "metadata": {},
   "outputs": [
    {
     "data": {
      "text/plain": [
       "array([[25, 13, 21, 12, 37, 18, 14, 24, 38, 32],\n",
       "       [26, 10, 25, 30, 17, 10, 33, 27, 39, 11],\n",
       "       [12, 17, 25, 35, 18, 19, 25, 39, 35, 32],\n",
       "       [32, 31, 14, 28, 11, 25, 19, 38, 14, 27],\n",
       "       [29, 27, 13, 11, 30, 26, 28, 39, 36, 25]])"
      ]
     },
     "execution_count": 54,
     "metadata": {},
     "output_type": "execute_result"
    }
   ],
   "source": [
    "n"
   ]
  },
  {
   "cell_type": "code",
   "execution_count": 62,
   "id": "7a657172-b118-4026-a383-d5720b7f7e36",
   "metadata": {},
   "outputs": [
    {
     "name": "stdout",
     "output_type": "stream",
     "text": [
      "39\n"
     ]
    }
   ],
   "source": [
    "a=n[4,-3]\n",
    "print(a)"
   ]
  },
  {
   "cell_type": "code",
   "execution_count": 60,
   "id": "666fd88c-d6ef-467d-be8b-95cb60459d77",
   "metadata": {},
   "outputs": [
    {
     "data": {
      "text/plain": [
       "np.int64(39)"
      ]
     },
     "execution_count": 60,
     "metadata": {},
     "output_type": "execute_result"
    }
   ],
   "source": [
    "a"
   ]
  },
  {
   "cell_type": "markdown",
   "id": "3d8d5c12-34ea-4a12-9deb-069929350321",
   "metadata": {},
   "source": [
    "#reshape() function is used to arrange elements into rows and columns\n",
    "the number of elements and the number of rows and columns should be in accordance."
   ]
  },
  {
   "cell_type": "code",
   "execution_count": 64,
   "id": "17ca3a29-aa1f-487b-a8a3-d87025b2c784",
   "metadata": {},
   "outputs": [
    {
     "data": {
      "text/plain": [
       "array([[ 1,  2,  3,  4],\n",
       "       [ 5,  6,  7,  8],\n",
       "       [ 9, 10, 11, 12],\n",
       "       [13, 14, 15, 16]])"
      ]
     },
     "execution_count": 64,
     "metadata": {},
     "output_type": "execute_result"
    }
   ],
   "source": [
    "np.arange(1,17).reshape(4,4)"
   ]
  },
  {
   "cell_type": "code",
   "execution_count": 65,
   "id": "47567fa5-5780-4652-a3c4-027fbcf1621c",
   "metadata": {},
   "outputs": [
    {
     "ename": "ValueError",
     "evalue": "cannot reshape array of size 15 into shape (4,4)",
     "output_type": "error",
     "traceback": [
      "\u001b[0;31m---------------------------------------------------------------------------\u001b[0m",
      "\u001b[0;31mValueError\u001b[0m                                Traceback (most recent call last)",
      "Cell \u001b[0;32mIn[65], line 1\u001b[0m\n\u001b[0;32m----> 1\u001b[0m np\u001b[38;5;241m.\u001b[39marange(\u001b[38;5;241m1\u001b[39m,\u001b[38;5;241m16\u001b[39m)\u001b[38;5;241m.\u001b[39mreshape(\u001b[38;5;241m4\u001b[39m,\u001b[38;5;241m4\u001b[39m)\n",
      "\u001b[0;31mValueError\u001b[0m: cannot reshape array of size 15 into shape (4,4)"
     ]
    }
   ],
   "source": [
    "np.arange(1,16).reshape(4,4)"
   ]
  },
  {
   "cell_type": "code",
   "execution_count": null,
   "id": "3de9d1b1-fce8-4bef-850a-dee735aaf4cb",
   "metadata": {},
   "outputs": [],
   "source": []
  },
  {
   "cell_type": "code",
   "execution_count": null,
   "id": "0c4983d4-9798-403a-8d62-cb39d2990e59",
   "metadata": {},
   "outputs": [],
   "source": []
  },
  {
   "cell_type": "code",
   "execution_count": null,
   "id": "35861f03-26a4-4381-8fca-08b623f9aef0",
   "metadata": {},
   "outputs": [],
   "source": []
  },
  {
   "cell_type": "code",
   "execution_count": null,
   "id": "726f446b-36a9-4bd8-a979-24c679d29501",
   "metadata": {},
   "outputs": [],
   "source": []
  }
 ],
 "metadata": {
  "kernelspec": {
   "display_name": "Python 3 (ipykernel)",
   "language": "python",
   "name": "python3"
  },
  "language_info": {
   "codemirror_mode": {
    "name": "ipython",
    "version": 3
   },
   "file_extension": ".py",
   "mimetype": "text/x-python",
   "name": "python",
   "nbconvert_exporter": "python",
   "pygments_lexer": "ipython3",
   "version": "3.13.5"
  }
 },
 "nbformat": 4,
 "nbformat_minor": 5
}
