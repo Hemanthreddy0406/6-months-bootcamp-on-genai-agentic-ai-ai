{
 "cells": [
  {
   "cell_type": "markdown",
   "id": "a54b6d5d-d507-472e-a409-e9f2c39c1802",
   "metadata": {},
   "source": [
    "Python Data Structures\n",
    "Datatype->one value\n",
    "Datastructure->multiple values\n",
    "Dataframe->collection of datastructures\n",
    "inbuilt->list,tuple,set,dict,range\n",
    "user defined->linked list,stack,heap,tree,queue,hashmap(can be worked using libraries)"
   ]
  },
  {
   "cell_type": "markdown",
   "id": "f43748b9-f0f0-4d39-a643-a965b092d90a",
   "metadata": {},
   "source": [
    "LIST:\n",
    "-assigned with squared brackets\n",
    "-ordered\n",
    "-mutable\n",
    "-allows duplicates\n",
    "-can store any datatype"
   ]
  },
  {
   "cell_type": "code",
   "execution_count": 1,
   "id": "b3f3096e-1b34-4ae8-97db-bc5d5e5b77bd",
   "metadata": {},
   "outputs": [
    {
     "data": {
      "text/plain": [
       "list"
      ]
     },
     "execution_count": 1,
     "metadata": {},
     "output_type": "execute_result"
    }
   ],
   "source": [
    "l=[]\n",
    "type(l)"
   ]
  },
  {
   "cell_type": "code",
   "execution_count": 4,
   "id": "d9c956f5-2e07-4b98-abfd-31183529b71c",
   "metadata": {},
   "outputs": [
    {
     "data": {
      "text/plain": [
       "[1, 2, 3, 4, 5, 6]"
      ]
     },
     "execution_count": 4,
     "metadata": {},
     "output_type": "execute_result"
    }
   ],
   "source": [
    "l=[1,2,3,4,5]\n",
    "l.append(6)\n",
    "l"
   ]
  },
  {
   "cell_type": "code",
   "execution_count": 13,
   "id": "c84f9e12-f342-41cf-99d1-2c1ba9c65edc",
   "metadata": {},
   "outputs": [
    {
     "name": "stdout",
     "output_type": "stream",
     "text": [
      "None\n"
     ]
    }
   ],
   "source": [
    "l1=l.clear()\n",
    "print(l1)"
   ]
  },
  {
   "cell_type": "code",
   "execution_count": 15,
   "id": "aa33362e-eccc-488e-80d8-9801df9da99f",
   "metadata": {},
   "outputs": [
    {
     "data": {
      "text/plain": [
       "[]"
      ]
     },
     "execution_count": 15,
     "metadata": {},
     "output_type": "execute_result"
    }
   ],
   "source": [
    "l.copy()\n",
    "l"
   ]
  },
  {
   "cell_type": "code",
   "execution_count": 18,
   "id": "689ddbba-726c-474e-a6c3-b978376ddf46",
   "metadata": {},
   "outputs": [
    {
     "ename": "SyntaxError",
     "evalue": "invalid syntax (3251407859.py, line 3)",
     "output_type": "error",
     "traceback": [
      "\u001b[0;36m  Cell \u001b[0;32mIn[18], line 3\u001b[0;36m\u001b[0m\n\u001b[0;31m    for i=1 to n\u001b[0m\n\u001b[0m         ^\u001b[0m\n\u001b[0;31mSyntaxError\u001b[0m\u001b[0;31m:\u001b[0m invalid syntax\n"
     ]
    }
   ],
   "source": [
    "n=int(input())\n",
    "i=0\n",
    "for i=1 to n\n",
    "  print(i)\n",
    "  i++"
   ]
  },
  {
   "cell_type": "code",
   "execution_count": null,
   "id": "92a7c096-5c98-4f4c-a6f3-820711a29c57",
   "metadata": {},
   "outputs": [],
   "source": []
  },
  {
   "cell_type": "code",
   "execution_count": null,
   "id": "0f05ae12-5901-4828-b092-9318ab0e34d3",
   "metadata": {},
   "outputs": [],
   "source": []
  },
  {
   "cell_type": "code",
   "execution_count": null,
   "id": "7a37d458-0982-419d-8caa-52f8a2e6c5cf",
   "metadata": {},
   "outputs": [],
   "source": []
  },
  {
   "cell_type": "code",
   "execution_count": null,
   "id": "473ea077-7d22-4900-b0fb-84ea2e452885",
   "metadata": {},
   "outputs": [],
   "source": []
  },
  {
   "cell_type": "code",
   "execution_count": null,
   "id": "c80b24d5-c7a3-48c1-884b-523dd193e824",
   "metadata": {},
   "outputs": [],
   "source": []
  },
  {
   "cell_type": "code",
   "execution_count": null,
   "id": "7017e52e-0876-4a32-9218-15f68362d61a",
   "metadata": {},
   "outputs": [],
   "source": []
  },
  {
   "cell_type": "code",
   "execution_count": null,
   "id": "92d7d42a-a943-47c0-b596-5167b042a270",
   "metadata": {},
   "outputs": [],
   "source": []
  },
  {
   "cell_type": "code",
   "execution_count": null,
   "id": "5a234d6c-a54b-4cc3-a613-e0511b2b4a56",
   "metadata": {},
   "outputs": [],
   "source": []
  },
  {
   "cell_type": "code",
   "execution_count": null,
   "id": "1986716b-5744-41ec-bf47-a9827133fd32",
   "metadata": {},
   "outputs": [],
   "source": []
  },
  {
   "cell_type": "code",
   "execution_count": null,
   "id": "89f3a67c-3811-4236-bbc7-31f4e685270d",
   "metadata": {},
   "outputs": [],
   "source": []
  },
  {
   "cell_type": "code",
   "execution_count": null,
   "id": "0c24a1d8-8847-4f83-ae02-01960f3a7a2b",
   "metadata": {},
   "outputs": [],
   "source": []
  },
  {
   "cell_type": "code",
   "execution_count": null,
   "id": "bdecdb6b-a1eb-4a86-b0a0-a22fc371fa97",
   "metadata": {},
   "outputs": [],
   "source": []
  }
 ],
 "metadata": {
  "kernelspec": {
   "display_name": "Python 3 (ipykernel)",
   "language": "python",
   "name": "python3"
  },
  "language_info": {
   "codemirror_mode": {
    "name": "ipython",
    "version": 3
   },
   "file_extension": ".py",
   "mimetype": "text/x-python",
   "name": "python",
   "nbconvert_exporter": "python",
   "pygments_lexer": "ipython3",
   "version": "3.13.5"
  }
 },
 "nbformat": 4,
 "nbformat_minor": 5
}
