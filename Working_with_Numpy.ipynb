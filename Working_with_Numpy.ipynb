{
 "cells": [
  {
   "cell_type": "markdown",
   "id": "3e619282-7054-4b93-835f-fa15ae1d5ea1",
   "metadata": {},
   "source": [
    "-- NUMPY --\n",
    "1)Numpy stands for numerical python\n",
    "2)it is used for performing numerical operations on numerical data\n",
    "3)numpy had arrays that can be used to perform numerical operations with much ease compared to python collections."
   ]
  },
  {
   "cell_type": "code",
   "execution_count": 1,
   "id": "8d69b3a8-3dae-47c8-b32c-bdc5d6d5c868",
   "metadata": {},
   "outputs": [],
   "source": [
    "#importing numpy\n",
    "import numpy as np"
   ]
  },
  {
   "cell_type": "code",
   "execution_count": 7,
   "id": "596e0083-87f5-4e7d-b5ac-b92e3397da5f",
   "metadata": {},
   "outputs": [
    {
     "name": "stdout",
     "output_type": "stream",
     "text": [
      "[ 1  2  3  4  5  6  7  8  9 10]\n"
     ]
    }
   ],
   "source": [
    "#Creating arrays in python using numpy\n",
    "array=np.array([1,2,3,4,5,6,7,8,9,10])\n",
    "print(array)"
   ]
  },
  {
   "cell_type": "code",
   "execution_count": 5,
   "id": "cc3c965c-dd93-460d-ad83-29ad437a39be",
   "metadata": {},
   "outputs": [
    {
     "name": "stdout",
     "output_type": "stream",
     "text": [
      "[[ 1  3  5  7  9]\n",
      " [ 2  4  6  8 10]]\n"
     ]
    }
   ],
   "source": [
    "#creating a multi-dimensional array\n",
    "multi_array=np.array([[1,3,5,7,9],[2,4,6,8,10]])\n",
    "print(multi_array)"
   ]
  },
  {
   "cell_type": "code",
   "execution_count": 9,
   "id": "96f7ea8b-3a80-40aa-94cd-cbb839dfd997",
   "metadata": {},
   "outputs": [
    {
     "name": "stdout",
     "output_type": "stream",
     "text": [
      "[[0. 0.]\n",
      " [0. 0.]]\n"
     ]
    }
   ],
   "source": [
    "#creating an array of zeros\n",
    "zero_array=np.zeros((2,2))\n",
    "print(zero_array)"
   ]
  },
  {
   "cell_type": "code",
   "execution_count": 10,
   "id": "d639e40d-3228-472f-804a-b3b14a0b4cff",
   "metadata": {},
   "outputs": [
    {
     "name": "stdout",
     "output_type": "stream",
     "text": [
      "[[1. 1.]\n",
      " [1. 1.]]\n"
     ]
    }
   ],
   "source": [
    "#creating an array of ones\n",
    "one_array=np.ones((2,2))\n",
    "print(one_array)"
   ]
  },
  {
   "cell_type": "code",
   "execution_count": 15,
   "id": "1721e3cc-1c19-4d50-9cca-4f7626bebd09",
   "metadata": {},
   "outputs": [
    {
     "name": "stdout",
     "output_type": "stream",
     "text": [
      "[1 3 5 7 9]\n"
     ]
    }
   ],
   "source": [
    "#arranging elements into an array\n",
    "arr=np.arange(1,11,2)\n",
    "print(arr)"
   ]
  },
  {
   "cell_type": "code",
   "execution_count": 17,
   "id": "7a35897d-c212-4e36-a131-33c531495700",
   "metadata": {},
   "outputs": [
    {
     "name": "stdout",
     "output_type": "stream",
     "text": [
      "[[0.29627378 0.30054831]\n",
      " [0.31778698 0.96900964]]\n"
     ]
    }
   ],
   "source": [
    "#creating an array with random numbers\n",
    "#rand is function that is present in random module which is used to generate an array of the given dimensions using random numbers.\n",
    "arr=np.random.rand(2,2)\n",
    "print(arr)"
   ]
  },
  {
   "cell_type": "markdown",
   "id": "3825106f-abf2-47cd-9e0c-8a92d19c1e16",
   "metadata": {},
   "source": [
    "--NUMPY METHODS--"
   ]
  },
  {
   "cell_type": "code",
   "execution_count": 25,
   "id": "ca47875c-bdfb-4891-bf8e-0a7aa35de401",
   "metadata": {},
   "outputs": [
    {
     "name": "stdout",
     "output_type": "stream",
     "text": [
      "[[ 1  3  5  7  9]\n",
      " [ 2  4  6  8 10]]\n"
     ]
    }
   ],
   "source": [
    "arr=np.array([[1,3,5,7,9],[2,4,6,8,10]])\n",
    "print(arr)"
   ]
  },
  {
   "cell_type": "code",
   "execution_count": 20,
   "id": "2d4b9d22-e869-4c37-8649-5d7511313fcf",
   "metadata": {},
   "outputs": [
    {
     "data": {
      "text/plain": [
       "(2, 5)"
      ]
     },
     "execution_count": 20,
     "metadata": {},
     "output_type": "execute_result"
    }
   ],
   "source": [
    "#method to know the dimensions of an array\n",
    "arr.shape"
   ]
  },
  {
   "cell_type": "code",
   "execution_count": 21,
   "id": "04ff3814-f3af-4429-9fd5-9020ac89a400",
   "metadata": {},
   "outputs": [
    {
     "data": {
      "text/plain": [
       "10"
      ]
     },
     "execution_count": 21,
     "metadata": {},
     "output_type": "execute_result"
    }
   ],
   "source": [
    "#method to know the number of elements in an array\n",
    "arr.size"
   ]
  },
  {
   "cell_type": "code",
   "execution_count": 27,
   "id": "29396887-d175-4387-a90d-ac3f8772db50",
   "metadata": {},
   "outputs": [
    {
     "name": "stdout",
     "output_type": "stream",
     "text": [
      "int64\n"
     ]
    }
   ],
   "source": [
    "#method to know the data type of the elements present in an array\n",
    "->even if a single element is a float and remaining all are int then the result will be a float\n",
    "arr.dtype\n",
    "print(arr.dtype)"
   ]
  },
  {
   "cell_type": "markdown",
   "id": "21c4e827-fa99-494b-a9d0-ae5efbdf8f06",
   "metadata": {},
   "source": [
    "--PERFORMING MATHEMATICAL OPERATIONS ON ARRAY--"
   ]
  },
  {
   "cell_type": "code",
   "execution_count": 33,
   "id": "c5b595b9-e4bb-4351-827d-9bd8748aab71",
   "metadata": {},
   "outputs": [
    {
     "name": "stdout",
     "output_type": "stream",
     "text": [
      "[ 3  7 11 15 19]\n",
      "[-1 -1 -1 -1 -1]\n",
      "[ 2 12 30 56 90]\n",
      "[0.5        0.75       0.83333333 0.875      0.9       ]\n",
      "[1 3 5 7 9]\n",
      "[101 103 105 107 109]\n",
      "[-98 -96 -94 -92 -90]\n",
      "[ 1  9 25 49 81]\n"
     ]
    }
   ],
   "source": [
    "arr1=np.array([1,3,5,7,9])\n",
    "arr2=np.array([2,4,6,8,10])\n",
    "print(arr1+arr2)\n",
    "print(arr1-arr2)\n",
    "print(arr1*arr2)\n",
    "print(arr1/arr2)\n",
    "print(arr1%arr2)\n",
    "print(arr1+100)\n",
    "print(arr2-100)\n",
    "print(arr1**2)"
   ]
  },
  {
   "cell_type": "markdown",
   "id": "7dc2fb35-b54e-47bf-ad46-a0468530e5ef",
   "metadata": {},
   "source": [
    "--MATRIX OPERATIONS USING NUMPY--"
   ]
  },
  {
   "cell_type": "code",
   "execution_count": 43,
   "id": "71ca0ac1-d000-4da2-bfe6-4d8aba62a479",
   "metadata": {},
   "outputs": [
    {
     "name": "stdout",
     "output_type": "stream",
     "text": [
      "[[ 3  7 11 15 19]\n",
      " [23 27 31 35 39]]\n",
      "[[-1 -1 -1 -1 -1]\n",
      " [-1 -1 -1 -1 -1]]\n",
      "[[  2  12  30  56  90]\n",
      " [132 182 240 306 380]]\n",
      "[[0.5        0.75       0.83333333 0.875      0.9       ]\n",
      " [0.91666667 0.92857143 0.9375     0.94444444 0.95      ]]\n"
     ]
    }
   ],
   "source": [
    "arr1=np.array([[1,3,5,7,9],[11,13,15,17,19]])\n",
    "arr2=np.array([[2,4,6,8,10],[12,14,16,18,20]])\n",
    "#matrix addition\n",
    "print(arr1+arr2)\n",
    "#matrix subtraction\n",
    "print(arr1-arr2)\n",
    "#element wise matrix multiplication\n",
    "print(arr1*arr2)\n",
    "#matrix multiplication-dot product\n",
    "#print(np.dot(arr1,arr2))\n",
    "#matrix division\n",
    "print(arr1/arr2)"
   ]
  },
  {
   "cell_type": "code",
   "execution_count": 44,
   "id": "846d31e5-b7e0-44f9-882c-3b7f1ca97b2c",
   "metadata": {},
   "outputs": [
    {
     "name": "stdout",
     "output_type": "stream",
     "text": [
      "[[ 1 11]\n",
      " [ 3 13]\n",
      " [ 5 15]\n",
      " [ 7 17]\n",
      " [ 9 19]]\n"
     ]
    }
   ],
   "source": [
    "#transpose of a matrix\n",
    "print(arr1.T)"
   ]
  },
  {
   "cell_type": "code",
   "execution_count": 57,
   "id": "13f21b66-6d00-4e83-8d9f-2812c25727f1",
   "metadata": {},
   "outputs": [
    {
     "name": "stdout",
     "output_type": "stream",
     "text": [
      "[[1 2]\n",
      " [3 4]]\n"
     ]
    }
   ],
   "source": [
    "arr=np.array([[1,2],[3,4]])\n",
    "print(arr)"
   ]
  },
  {
   "cell_type": "code",
   "execution_count": 58,
   "id": "774b1551-cc7c-479e-8152-5cdc6fa987a9",
   "metadata": {},
   "outputs": [
    {
     "name": "stdout",
     "output_type": "stream",
     "text": [
      "-2.0000000000000004\n"
     ]
    }
   ],
   "source": [
    "#determinant of a matrix\n",
    "determinant function is present in the linalg module of numpy\n",
    "print(np.linalg.det(arr))"
   ]
  },
  {
   "cell_type": "code",
   "execution_count": 59,
   "id": "553ca489-18b0-410a-9bde-8214d8ad4f71",
   "metadata": {},
   "outputs": [
    {
     "name": "stdout",
     "output_type": "stream",
     "text": [
      "[[-2.   1. ]\n",
      " [ 1.5 -0.5]]\n"
     ]
    }
   ],
   "source": [
    "#inverse of a matrix\n",
    "print(np.linalg.inv(arr))"
   ]
  },
  {
   "cell_type": "code",
   "execution_count": 60,
   "id": "41b7d4bb-f798-410d-8acd-190a92cb197c",
   "metadata": {},
   "outputs": [
    {
     "name": "stdout",
     "output_type": "stream",
     "text": [
      "[[1. 0. 0. 0.]\n",
      " [0. 1. 0. 0.]\n",
      " [0. 0. 1. 0.]\n",
      " [0. 0. 0. 1.]]\n"
     ]
    }
   ],
   "source": [
    "#creating an identity matrix\n",
    "print(np.eye(4))"
   ]
  },
  {
   "cell_type": "code",
   "execution_count": 61,
   "id": "8ca74e51-4430-45dc-a850-7af8a31b6bc3",
   "metadata": {},
   "outputs": [
    {
     "name": "stdout",
     "output_type": "stream",
     "text": [
      "EigResult(eigenvalues=array([-0.37228132,  5.37228132]), eigenvectors=array([[-0.82456484, -0.41597356],\n",
      "       [ 0.56576746, -0.90937671]]))\n"
     ]
    }
   ],
   "source": [
    "#generating eigen values and eigen vectors of a matrix using numpy\n",
    "print(np.linalg.eig(arr))"
   ]
  },
  {
   "cell_type": "code",
   "execution_count": 62,
   "id": "ad9bbe43-8d58-410a-9e63-ad7a1b78bd1f",
   "metadata": {},
   "outputs": [
    {
     "name": "stdout",
     "output_type": "stream",
     "text": [
      "2\n"
     ]
    }
   ],
   "source": [
    "#finding the rank of a matrix\n",
    "print(np.linalg.matrix_rank(arr))"
   ]
  },
  {
   "cell_type": "markdown",
   "id": "742bebe2-e013-4c4b-b363-f40a5c794071",
   "metadata": {},
   "source": [
    "--SOLVING LINEAR EQUATIONS USING NUMPY--"
   ]
  },
  {
   "cell_type": "code",
   "execution_count": 64,
   "id": "d8519f26-7b5a-4a25-bec4-64af9e47a393",
   "metadata": {},
   "outputs": [
    {
     "name": "stdout",
     "output_type": "stream",
     "text": [
      "[[1 2]\n",
      " [3 4]]\n",
      "[6 7]\n",
      "[-5.   5.5]\n"
     ]
    }
   ],
   "source": [
    "#if AX=B then solve for X\n",
    "A=np.array([[1,2],[3,4]])\n",
    "B=np.array([6,7])\n",
    "X=np.linalg.solve(A,B)\n",
    "print(A,B,X,sep=\"\\n\")"
   ]
  },
  {
   "cell_type": "code",
   "execution_count": null,
   "id": "83760fa3-e66f-4c0b-83f0-6efac6c84d7f",
   "metadata": {},
   "outputs": [],
   "source": []
  },
  {
   "cell_type": "code",
   "execution_count": null,
   "id": "c600b0fe-156f-4ecc-a939-99c21f232322",
   "metadata": {},
   "outputs": [],
   "source": []
  }
 ],
 "metadata": {
  "kernelspec": {
   "display_name": "Python 3 (ipykernel)",
   "language": "python",
   "name": "python3"
  },
  "language_info": {
   "codemirror_mode": {
    "name": "ipython",
    "version": 3
   },
   "file_extension": ".py",
   "mimetype": "text/x-python",
   "name": "python",
   "nbconvert_exporter": "python",
   "pygments_lexer": "ipython3",
   "version": "3.13.5"
  }
 },
 "nbformat": 4,
 "nbformat_minor": 5
}
